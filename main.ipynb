{
  "nbformat": 4,
  "nbformat_minor": 0,
  "metadata": {
    "colab": {
      "provenance": []
    },
    "kernelspec": {
      "name": "python3",
      "display_name": "Python 3"
    },
    "language_info": {
      "name": "python"
    }
  },
  "cells": [
    {
      "cell_type": "code",
      "execution_count": 1,
      "metadata": {
        "id": "3aizKtWgiZpY"
      },
      "outputs": [],
      "source": [
        "import tensorflow as tf"
      ]
    },
    {
      "cell_type": "code",
      "source": [
        "# MNIST dataset of handwritten digits\n",
        "from keras.datasets import mnist\n",
        "\n",
        "# Model\n",
        "from keras.models import Sequential\n",
        "from keras.layers import Dense, Conv2D, Flatten, MaxPooling2D, Dropout\n",
        "from keras.optimizers import RMSprop\n",
        "\n",
        "# Preprocessing\n",
        "from keras.utils import to_categorical\n",
        "\n",
        "# Visualization\n",
        "%matplotlib inline\n",
        "import matplotlib.pyplot as plt"
      ],
      "metadata": {
        "id": "m_On3bDAipyb"
      },
      "execution_count": 3,
      "outputs": []
    },
    {
      "cell_type": "code",
      "source": [
        "(X_train, y_train), (X_test, y_test) = mnist.load_data()\n",
        "X_train.shape, X_test.shape"
      ],
      "metadata": {
        "colab": {
          "base_uri": "https://localhost:8080/"
        },
        "id": "eFZJi65aisoE",
        "outputId": "7e147a8e-9e0d-46b5-f4fb-78767fc64c35"
      },
      "execution_count": 15,
      "outputs": [
        {
          "output_type": "execute_result",
          "data": {
            "text/plain": [
              "((60000, 28, 28), (10000, 28, 28))"
            ]
          },
          "metadata": {},
          "execution_count": 15
        }
      ]
    },
    {
      "cell_type": "code",
      "source": [
        "fig, axes = plt.subplots(nrows=3, ncols=3, figsize=(20, 10))\n",
        "axes = axes.flat\n",
        "\n",
        "for i in range(9):\n",
        "    axes[i].imshow(X_train[i])\n",
        "    axes[i].axis('off')"
      ],
      "metadata": {
        "colab": {
          "base_uri": "https://localhost:8080/",
          "height": 575
        },
        "id": "sylMjcmLivHC",
        "outputId": "54bed32f-db86-405e-d3db-e38cfec0abca"
      },
      "execution_count": 16,
      "outputs": [
        {
          "output_type": "display_data",
          "data": {
            "text/plain": [
              "<Figure size 1440x720 with 9 Axes>"
            ],
            "image/png": "[encoded data removed]"
          },
          "metadata": {
            "needs_background": "light"
          }
        }
      ]
    },
    {
      "cell_type": "code",
      "source": [
        "X_train = X_train.reshape((60000,28, 28, 1)).astype('float32') / 255\n",
        "X_test = X_test.reshape((10000, 28, 28, 1)).astype('float32') / 255\n",
        "\n",
        "y_train = to_categorical(y_train, 10)\n",
        "y_test = to_categorical(y_test, 10)"
      ],
      "metadata": {
        "id": "_mtLM87PiyWi"
      },
      "execution_count": 6,
      "outputs": []
    },
    {
      "cell_type": "code",
      "source": [
        "def get_model():\n",
        "    model = Sequential()\n",
        "    \n",
        "    model.add(Conv2D(64, \n",
        "                     kernel_size=(3, 3), \n",
        "                     activation='relu', \n",
        "                     input_shape=(28, 28, 1)))\n",
        "    \n",
        "    model.add(Conv2D(128, \n",
        "                     (3,3), \n",
        "                     activation='relu'))\n",
        "    \n",
        "    model.add(MaxPooling2D(pool_size=(2, 2)))\n",
        "    model.add(Dropout(0.2))\n",
        "    model.add(Flatten())\n",
        "    \n",
        "    model.add(Dense(1024, \n",
        "                    activation='relu'))\n",
        "    \n",
        "    model.add(Dropout(0.2))\n",
        "\n",
        "    model.add(Dense(1024, \n",
        "                    activation='relu'))\n",
        "    \n",
        "    model.add(Dropout(0.2))\n",
        "    \n",
        "    model.add(Dense(10, \n",
        "                    activation='softmax'))\n",
        "    \n",
        "    model.compile(optimizer=RMSprop(lr=0.01),\n",
        "                  loss='categorical_crossentropy',\n",
        "                  metrics=['accuracy'])\n",
        "    \n",
        "    return model"
      ],
      "metadata": {
        "id": "spS4FGyKi1Zr"
      },
      "execution_count": 7,
      "outputs": []
    },
    {
      "cell_type": "code",
      "source": [
        "model = get_model()\n",
        "\n",
        "model.summary()"
      ],
      "metadata": {
        "colab": {
          "base_uri": "https://localhost:8080/"
        },
        "id": "ri-05hUii3n4",
        "outputId": "576e519f-829e-4dbd-e49f-ba39961bf64a"
      },
      "execution_count": 9,
      "outputs": [
        {
          "output_type": "stream",
          "name": "stdout",
          "text": [
            "Model: \"sequential_1\"\n",
            "_________________________________________________________________\n",
            " Layer (type)                Output Shape              Param #   \n",
            "=================================================================\n",
            " conv2d_2 (Conv2D)           (None, 26, 26, 64)        640       \n",
            "                                                                 \n",
            " conv2d_3 (Conv2D)           (None, 24, 24, 128)       73856     \n",
            "                                                                 \n",
            " max_pooling2d_1 (MaxPooling  (None, 12, 12, 128)      0         \n",
            " 2D)                                                             \n",
            "                                                                 \n",
            " dropout_3 (Dropout)         (None, 12, 12, 128)       0         \n",
            "                                                                 \n",
            " flatten_1 (Flatten)         (None, 18432)             0         \n",
            "                                                                 \n",
            " dense_3 (Dense)             (None, 1024)              18875392  \n",
            "                                                                 \n",
            " dropout_4 (Dropout)         (None, 1024)              0         \n",
            "                                                                 \n",
            " dense_4 (Dense)             (None, 1024)              1049600   \n",
            "                                                                 \n",
            " dropout_5 (Dropout)         (None, 1024)              0         \n",
            "                                                                 \n",
            " dense_5 (Dense)             (None, 10)                10250     \n",
            "                                                                 \n",
            "=================================================================\n",
            "Total params: 20,009,738\n",
            "Trainable params: 20,009,738\n",
            "Non-trainable params: 0\n",
            "_________________________________________________________________\n"
          ]
        }
      ]
    },
    {
      "cell_type": "code",
      "source": [
        "history = model.fit(X_train[:5000],\n",
        "                    y_train[:5000],\n",
        "                    epochs=5,\n",
        "                    batch_size=64,\n",
        "                    validation_data=(X_test, y_test))"
      ],
      "metadata": {
        "colab": {
          "base_uri": "https://localhost:8080/"
        },
        "id": "p5S-3uk8i7Sf",
        "outputId": "39f51b0c-7d33-474c-f3ea-489a0065969a"
      },
      "execution_count": 10,
      "outputs": [
        {
          "output_type": "stream",
          "name": "stdout",
          "text": [
            "Epoch 1/5\n",
            "79/79 [==============================] - 79s 991ms/step - loss: 136.4429 - accuracy: 0.7100 - val_loss: 0.3602 - val_accuracy: 0.9031\n",
            "Epoch 2/5\n",
            "79/79 [==============================] - 81s 1s/step - loss: 0.4288 - accuracy: 0.8904 - val_loss: 5.9254 - val_accuracy: 0.2742\n",
            "Epoch 3/5\n",
            "79/79 [==============================] - 82s 1s/step - loss: 0.4070 - accuracy: 0.9176 - val_loss: 0.7823 - val_accuracy: 0.8298\n",
            "Epoch 4/5\n",
            "79/79 [==============================] - 77s 984ms/step - loss: 0.2765 - accuracy: 0.9402 - val_loss: 0.6845 - val_accuracy: 0.8780\n",
            "Epoch 5/5\n",
            "79/79 [==============================] - 77s 981ms/step - loss: 0.2473 - accuracy: 0.9466 - val_loss: 0.2127 - val_accuracy: 0.9525\n"
          ]
        }
      ]
    },
    {
      "cell_type": "code",
      "source": [
        "model.save('educated.h5')"
      ],
      "metadata": {
        "id": "rOBFu-5KuxqT"
      },
      "execution_count": 17,
      "outputs": []
    },
    {
      "cell_type": "code",
      "source": [
        "filehistory = tf.keras.models.load_model('educated.h5')"
      ],
      "metadata": {
        "id": "U-GxvhCYuz1o"
      },
      "execution_count": 18,
      "outputs": []
    },
    {
      "cell_type": "code",
      "source": [
        "x = range(5)\n",
        "\n",
        "plt.grid(True)\n",
        "\n",
        "plt.plot(x, \n",
        "         history.history['accuracy'], \n",
        "         'bo-', \n",
        "         label='Train accuracy')\n",
        "\n",
        "plt.plot(x, \n",
        "         history.history['val_accuracy'],\n",
        "         'ro-',\n",
        "         label='Validation accuracy')\n",
        "\n",
        "plt.xlabel('Epoch')\n",
        "plt.ylabel('Accuracy')\n",
        "\n",
        "plt.legend(loc='lower right')"
      ],
      "metadata": {
        "colab": {
          "base_uri": "https://localhost:8080/",
          "height": 296
        },
        "id": "YBu2z4Rsu38f",
        "outputId": "354717da-407a-4f39-8e90-49d4b0c4cf4a"
      },
      "execution_count": 23,
      "outputs": [
        {
          "output_type": "execute_result",
          "data": {
            "text/plain": [
              "<matplotlib.legend.Legend at 0x7f0d37ef3c10>"
            ]
          },
          "metadata": {},
          "execution_count": 23
        },
        {
          "output_type": "display_data",
          "data": {
            "text/plain": [
              "<Figure size 432x288 with 1 Axes>"
            ],
            "image/png": "[encoded data removed]"
          },
          "metadata": {
            "needs_background": "light"
          }
        }
      ]
    },
    {
      "cell_type": "code",
      "source": [
        "plt.grid(True)\n",
        "\n",
        "plt.plot(x, \n",
        "         history.history['loss'], \n",
        "         'bo-', \n",
        "         label='Train losses')\n",
        "\n",
        "plt.plot(x, \n",
        "         history.history['val_loss'],\n",
        "         'ro-',\n",
        "         label='Validation losses')\n",
        "\n",
        "plt.xlabel('Epoch')\n",
        "plt.ylabel('Loss')\n",
        "\n",
        "plt.legend(loc='upper right')"
      ],
      "metadata": {
        "colab": {
          "base_uri": "https://localhost:8080/",
          "height": 296
        },
        "id": "E3iv4654vpii",
        "outputId": "4c8ad61c-a062-4abd-a182-cf56c1786622"
      },
      "execution_count": 24,
      "outputs": [
        {
          "output_type": "execute_result",
          "data": {
            "text/plain": [
              "<matplotlib.legend.Legend at 0x7f0d37fbb550>"
            ]
          },
          "metadata": {},
          "execution_count": 24
        },
        {
          "output_type": "display_data",
          "data": {
            "text/plain": [
              "<Figure size 432x288 with 1 Axes>"
            ],
            "image/png": "[encoded data removed]"
          },
          "metadata": {
            "needs_background": "light"
          }
        }
      ]
    },
    {
      "cell_type": "code",
      "source": [
        "import keras\n",
        "import numpy as np\n",
        "\n",
        "def cnn_digits_predict(model, image_file):\n",
        "   image_size = 28\n",
        "   img = keras.utils.load_img(image_file, \n",
        "target_size=(image_size, image_size), color_mode='grayscale')\n",
        "   img_arr = np.expand_dims(img, axis=0)\n",
        "   #img_arr = 1 - img_arr/255.0\n",
        "   img_arr = img_arr.reshape((1, 28, 28, 1))\n",
        "\n",
        "   result = model.predict([img_arr])\n",
        "   return result[0]"
      ],
      "metadata": {
        "id": "EE4YZmCqvsj7"
      },
      "execution_count": 28,
      "outputs": []
    },
    {
      "cell_type": "code",
      "source": [
        "print(cnn_digits_predict(model, 'test0.png'))\n",
        "print(np.argmax(cnn_digits_predict(model, 'test0.png')))\n",
        "\n",
        "print(cnn_digits_predict(model, 'test1.png'))\n",
        "print(np.argmax(cnn_digits_predict(model, 'test1.png')))\n",
        "\n",
        "print(cnn_digits_predict(model, 'test2.png'))\n",
        "print(np.argmax(cnn_digits_predict(model, 'test2.png')))\n",
        "\n",
        "print(cnn_digits_predict(model, 'test3.png'))\n",
        "print(np.argmax(cnn_digits_predict(model, 'test3.png')))\n",
        "\n",
        "print(cnn_digits_predict(model, 'test4.png'))\n",
        "print(np.argmax(cnn_digits_predict(model, 'test4.png')))\n",
        "\n",
        "print(cnn_digits_predict(model, 'test5.png'))\n",
        "print(np.argmax(cnn_digits_predict(model, 'test5.png')))\n",
        "\n",
        "print(cnn_digits_predict(model, 'test6.png'))\n",
        "print(np.argmax(cnn_digits_predict(model, 'test6.png')))\n",
        "\n",
        "print(cnn_digits_predict(model, 'test7.png'))\n",
        "print(np.argmax(cnn_digits_predict(model, 'test7.png')))\n",
        "\n",
        "print(cnn_digits_predict(model, 'test8.png'))\n",
        "print(np.argmax(cnn_digits_predict(model, 'test8.png')))\n",
        "\n",
        "print(cnn_digits_predict(model, 'test9.png'))\n",
        "print(np.argmax(cnn_digits_predict(model, 'test9.png')))"
      ],
      "metadata": {
        "colab": {
          "base_uri": "https://localhost:8080/"
        },
        "id": "emLrJ6QOv2ak",
        "outputId": "837cfe86-d71a-477a-dd16-c91704e0bc2d"
      },
      "execution_count": 78,
      "outputs": [
        {
          "output_type": "stream",
          "name": "stdout",
          "text": [
            "1/1 [==============================] - 0s 27ms/step\n",
            "[0. 0. 0. 0. 0. 0. 0. 0. 1. 0.]\n",
            "1/1 [==============================] - 0s 25ms/step\n",
            "8\n",
            "1/1 [==============================] - 0s 27ms/step\n",
            "[0. 1. 0. 0. 0. 0. 0. 0. 0. 0.]\n",
            "1/1 [==============================] - 0s 34ms/step\n",
            "1\n",
            "1/1 [==============================] - 0s 27ms/step\n",
            "[0. 0. 1. 0. 0. 0. 0. 0. 0. 0.]\n",
            "1/1 [==============================] - 0s 36ms/step\n",
            "2\n",
            "1/1 [==============================] - 0s 26ms/step\n",
            "[0. 0. 0. 1. 0. 0. 0. 0. 0. 0.]\n",
            "1/1 [==============================] - 0s 28ms/step\n",
            "3\n",
            "1/1 [==============================] - 0s 26ms/step\n",
            "[0. 0. 0. 0. 1. 0. 0. 0. 0. 0.]\n",
            "1/1 [==============================] - 0s 28ms/step\n",
            "4\n",
            "1/1 [==============================] - 0s 27ms/step\n",
            "[0. 0. 0. 0. 0. 1. 0. 0. 0. 0.]\n",
            "1/1 [==============================] - 0s 29ms/step\n",
            "5\n",
            "1/1 [==============================] - 0s 27ms/step\n",
            "[0. 0. 0. 0. 0. 0. 1. 0. 0. 0.]\n",
            "1/1 [==============================] - 0s 26ms/step\n",
            "6\n",
            "1/1 [==============================] - 0s 28ms/step\n",
            "[0.000000e+00 0.000000e+00 5.257969e-14 1.000000e+00 0.000000e+00\n",
            " 0.000000e+00 0.000000e+00 0.000000e+00 0.000000e+00 0.000000e+00]\n",
            "1/1 [==============================] - 0s 29ms/step\n",
            "3\n",
            "1/1 [==============================] - 0s 27ms/step\n",
            "[0. 0. 0. 0. 0. 0. 0. 0. 1. 0.]\n",
            "1/1 [==============================] - 0s 25ms/step\n",
            "8\n",
            "1/1 [==============================] - 0s 25ms/step\n",
            "[0. 0. 0. 0. 0. 0. 0. 0. 0. 1.]\n",
            "1/1 [==============================] - 0s 26ms/step\n",
            "9\n"
          ]
        }
      ]
    }
  ]
}